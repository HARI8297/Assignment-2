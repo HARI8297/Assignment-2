{
  "nbformat": 4,
  "nbformat_minor": 0,
  "metadata": {
    "colab": {
      "name": "assignment 2",
      "provenance": [],
      "authorship_tag": "ABX9TyP7R7qv1L1qM1gX046Jn3Kw",
      "include_colab_link": true
    },
    "kernelspec": {
      "name": "python3",
      "display_name": "Python 3"
    },
    "language_info": {
      "name": "python"
    }
  },
  "cells": [
    {
      "cell_type": "markdown",
      "metadata": {
        "id": "view-in-github",
        "colab_type": "text"
      },
      "source": [
        "<a href=\"https://colab.research.google.com/github/HARI8297/Assignment-2/blob/main/assignment_2.ipynb\" target=\"_parent\"><img src=\"https://colab.research.google.com/assets/colab-badge.svg\" alt=\"Open In Colab\"/></a>"
      ]
    },
    {
      "cell_type": "code",
      "metadata": {
        "id": "z0oyNBsvFXnp"
      },
      "source": [
        "import numpy as np\n",
        "import pandas as pd\n",
        "import seaborn as sns\n",
        "\n",
        "import matplotlib as mpl\n",
        "import matplotlib.pyplot as plt\n",
        "%matplotlib inline\n",
        "\n",
        "from numpy.random import randn, randint, uniform, sample"
      ],
      "execution_count": 3,
      "outputs": []
    },
    {
      "cell_type": "code",
      "metadata": {
        "colab": {
          "base_uri": "https://localhost:8080/",
          "height": 357
        },
        "id": "G7TFmW0qFfoU",
        "outputId": "5d99d825-ed9c-45e7-db4c-a4f982c55dae"
      },
      "source": [
        "dff = pd.DataFrame(randn(10,4), columns = [\"a\",\"b\",\"c\",\"d\"])\n",
        "dff"
      ],
      "execution_count": 4,
      "outputs": [
        {
          "output_type": "execute_result",
          "data": {
            "text/html": [
              "<div>\n",
              "<style scoped>\n",
              "    .dataframe tbody tr th:only-of-type {\n",
              "        vertical-align: middle;\n",
              "    }\n",
              "\n",
              "    .dataframe tbody tr th {\n",
              "        vertical-align: top;\n",
              "    }\n",
              "\n",
              "    .dataframe thead th {\n",
              "        text-align: right;\n",
              "    }\n",
              "</style>\n",
              "<table border=\"1\" class=\"dataframe\">\n",
              "  <thead>\n",
              "    <tr style=\"text-align: right;\">\n",
              "      <th></th>\n",
              "      <th>a</th>\n",
              "      <th>b</th>\n",
              "      <th>c</th>\n",
              "      <th>d</th>\n",
              "    </tr>\n",
              "  </thead>\n",
              "  <tbody>\n",
              "    <tr>\n",
              "      <th>0</th>\n",
              "      <td>-0.668600</td>\n",
              "      <td>-0.461632</td>\n",
              "      <td>0.397529</td>\n",
              "      <td>0.159542</td>\n",
              "    </tr>\n",
              "    <tr>\n",
              "      <th>1</th>\n",
              "      <td>-0.480980</td>\n",
              "      <td>-0.136046</td>\n",
              "      <td>0.630896</td>\n",
              "      <td>0.001852</td>\n",
              "    </tr>\n",
              "    <tr>\n",
              "      <th>2</th>\n",
              "      <td>-1.009148</td>\n",
              "      <td>-0.227528</td>\n",
              "      <td>0.289099</td>\n",
              "      <td>-2.529365</td>\n",
              "    </tr>\n",
              "    <tr>\n",
              "      <th>3</th>\n",
              "      <td>-0.058747</td>\n",
              "      <td>0.085570</td>\n",
              "      <td>-1.614735</td>\n",
              "      <td>-0.395396</td>\n",
              "    </tr>\n",
              "    <tr>\n",
              "      <th>4</th>\n",
              "      <td>0.429910</td>\n",
              "      <td>-0.288223</td>\n",
              "      <td>0.031164</td>\n",
              "      <td>-0.455870</td>\n",
              "    </tr>\n",
              "    <tr>\n",
              "      <th>5</th>\n",
              "      <td>0.247980</td>\n",
              "      <td>0.407273</td>\n",
              "      <td>0.123534</td>\n",
              "      <td>1.233231</td>\n",
              "    </tr>\n",
              "    <tr>\n",
              "      <th>6</th>\n",
              "      <td>-0.510097</td>\n",
              "      <td>-1.243812</td>\n",
              "      <td>0.428651</td>\n",
              "      <td>0.300156</td>\n",
              "    </tr>\n",
              "    <tr>\n",
              "      <th>7</th>\n",
              "      <td>-1.270925</td>\n",
              "      <td>0.643097</td>\n",
              "      <td>0.306585</td>\n",
              "      <td>0.741757</td>\n",
              "    </tr>\n",
              "    <tr>\n",
              "      <th>8</th>\n",
              "      <td>2.739401</td>\n",
              "      <td>2.536983</td>\n",
              "      <td>-1.057740</td>\n",
              "      <td>-0.161025</td>\n",
              "    </tr>\n",
              "    <tr>\n",
              "      <th>9</th>\n",
              "      <td>-0.597080</td>\n",
              "      <td>-1.130827</td>\n",
              "      <td>-1.233411</td>\n",
              "      <td>1.090195</td>\n",
              "    </tr>\n",
              "  </tbody>\n",
              "</table>\n",
              "</div>"
            ],
            "text/plain": [
              "          a         b         c         d\n",
              "0 -0.668600 -0.461632  0.397529  0.159542\n",
              "1 -0.480980 -0.136046  0.630896  0.001852\n",
              "2 -1.009148 -0.227528  0.289099 -2.529365\n",
              "3 -0.058747  0.085570 -1.614735 -0.395396\n",
              "4  0.429910 -0.288223  0.031164 -0.455870\n",
              "5  0.247980  0.407273  0.123534  1.233231\n",
              "6 -0.510097 -1.243812  0.428651  0.300156\n",
              "7 -1.270925  0.643097  0.306585  0.741757\n",
              "8  2.739401  2.536983 -1.057740 -0.161025\n",
              "9 -0.597080 -1.130827 -1.233411  1.090195"
            ]
          },
          "metadata": {
            "tags": []
          },
          "execution_count": 4
        }
      ]
    },
    {
      "cell_type": "code",
      "metadata": {
        "colab": {
          "base_uri": "https://localhost:8080/",
          "height": 592
        },
        "id": "8w7vjSH-GBRX",
        "outputId": "220a63ef-9bf3-40ef-bfed-f456e0bafb5d"
      },
      "source": [
        "dff.plot(kind=\"bar\", figsize=(10,10))\n",
        "plt.show()"
      ],
      "execution_count": 5,
      "outputs": [
        {
          "output_type": "display_data",
          "data": {
            "image/png": "[encoded data removed]",
            "text/plain": [
              "<Figure size 720x720 with 1 Axes>"
            ]
          },
          "metadata": {
            "tags": [],
            "needs_background": "light"
          }
        }
      ]
    }
  ]
}